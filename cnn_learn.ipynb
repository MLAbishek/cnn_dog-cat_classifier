{
 "cells": [
  {
   "cell_type": "code",
   "execution_count": 1,
   "metadata": {},
   "outputs": [],
   "source": [
    "from tensorflow.keras.preprocessing.image import ImageDataGenerator\n",
    "import tensorflow as tf"
   ]
  },
  {
   "cell_type": "markdown",
   "metadata": {},
   "source": [
    "OBTAINING DATA FOR TRAINING SET"
   ]
  },
  {
   "cell_type": "code",
   "execution_count": null,
   "metadata": {},
   "outputs": [],
   "source": [
    "train_datagen=ImageDataGenerator(\n",
    "    rescale=1./255,\n",
    "    zoom_range=0.2,\n",
    "    shear_range=0.2,\n",
    "    horizontal_flip=True\n",
    ")\n",
    "training_set=train_datagen.flow_from_directory(\n",
    "    r\"D:\\programming\\models\\dataset\\dataset\\training_set\",\n",
    "    batch_size=32,\n",
    "    target_size=(64,64),\n",
    "    class_mode='binary'\n",
    ")"
   ]
  },
  {
   "cell_type": "markdown",
   "metadata": {},
   "source": [
    "OBATINING DATA FOR TEST SET"
   ]
  },
  {
   "cell_type": "code",
   "execution_count": null,
   "metadata": {},
   "outputs": [],
   "source": [
    "test_datagen=ImageDataGenerator(\n",
    "    rescale=1./255\n",
    ")\n",
    "test_set=test_datagen.flow_from_directory(\n",
    "    r\"D:\\programming\\models\\dataset\\dataset\\test_set\",\n",
    "    target_size=(64,64),\n",
    "    batch_size=32,\n",
    "    class_mode='binary'\n",
    ")"
   ]
  },
  {
   "cell_type": "markdown",
   "metadata": {},
   "source": [
    "BUILDING THE NEURAL NETWORK"
   ]
  },
  {
   "cell_type": "code",
   "execution_count": 4,
   "metadata": {},
   "outputs": [],
   "source": [
    "cnn=tf.keras.models.Sequential()\n",
    "#add the convolutional layer,input layer must be (64,64,3) 64,64 is target size and 3 denotes its a colored image\n",
    "cnn.add(tf.keras.layers.Conv2D(filters=32,kernel_size=3,activation='relu',input_shape=[64,64,3]))\n",
    "#add a maxpooling layer,it need not have a activation function\n",
    "cnn.add(tf.keras.layers.MaxPool2D(pool_size=2,strides=2))\n",
    "#add second convolutional layer, need not have input shape as this is not the first layer.\n",
    "cnn.add(tf.keras.layers.Conv2D(filters=32,kernel_size=3,activation='relu'))\n",
    "#add second maxpooling layer\n",
    "cnn.add(tf.keras.layers.MaxPool2D(pool_size=2,strides=2))\n",
    "#flatten now\n",
    "cnn.add(tf.keras.layers.Flatten())\n",
    "#now add a fully connected layer\n",
    "cnn.add(tf.keras.layers.Dense(units=128,activation='relu'))\n",
    "#add output layer\n",
    "cnn.add(tf.keras.layers.Dense(units=1,activation='sigmoid'))\n",
    "#compile the network\n",
    "cnn.compile(optimizer='adam',loss='binary_crossentropy',metrics=['accuracy'])"
   ]
  },
  {
   "cell_type": "markdown",
   "metadata": {},
   "source": [
    "TRAIN THE NEURAL NETWORK"
   ]
  },
  {
   "cell_type": "code",
   "execution_count": null,
   "metadata": {},
   "outputs": [],
   "source": [
    "cnn.fit(x=training_set,validation_data=test_set,epochs=25)"
   ]
  },
  {
   "cell_type": "code",
   "execution_count": null,
   "metadata": {},
   "outputs": [],
   "source": [
    "from keras.utils import load_img,img_to_array\n",
    "import numpy as np\n",
    "image=load_img(r'D:\\programming\\models\\dataset\\dataset\\single_prediction\\download.jpg',target_size=(64,64))\n",
    "image=img_to_array(image)\n",
    "image=np.expand_dims(image,axis=0)\n",
    "res=cnn.predict(image)\n",
    "print(\"Obtained prediction is {}\".format(res))\n",
    "print(training_set.class_indices)\n",
    "if res[0][0]==0:\n",
    "    print(\"Its a cat\")\n",
    "else:\n",
    "    print(\"Its a dog\")"
   ]
  }
 ],
 "metadata": {
  "kernelspec": {
   "display_name": "py310",
   "language": "python",
   "name": "python3"
  },
  "language_info": {
   "codemirror_mode": {
    "name": "ipython",
    "version": 3
   },
   "file_extension": ".py",
   "mimetype": "text/x-python",
   "name": "python",
   "nbconvert_exporter": "python",
   "pygments_lexer": "ipython3",
   "version": "3.10.14"
  }
 },
 "nbformat": 4,
 "nbformat_minor": 2
}
